{
 "cells": [
  {
   "cell_type": "markdown",
   "metadata": {},
   "source": [
    "## Stats700-002 Homework Template, Fall 2017\n",
    "### Keith Levin\n",
    "#### klevin@umich.edu\n",
    "\n",
    "You should disclose with whom you discussed your homework, something like \"I discussed problem 1 with Ronald A. Fisher and John Tukey. I did not discuss problem 2 with anyone else in the class.\"\n",
    "\n",
    "I would also appreciate it if you would list on your homework (approximately) how much time each problem took you, so that I can adjust future homeworks accordingly. Something like, \"Problem 1 took me two hours; Problem 2 took me one hour.\""
   ]
  },
  {
   "cell_type": "markdown",
   "metadata": {},
   "source": [
    "### Problem 1: retrieve a website\n",
    "Lorem ipsum...\n",
    "You can write $\\LaTeX{}$ if you need to: $e^{i\\pi} = -1$.\n",
    "Quick-start information for jupyter notebooks can be found here: https://jupyter.readthedocs.io/en/latest/content-quickstart.html\n",
    "I like the tutorial available at https://www.datacamp.com/community/tutorials/tutorial-jupyter-notebook, though you will probably want to skip to the section titled \"Getting Started With Jupyter Notebooks\"."
   ]
  },
  {
   "cell_type": "code",
   "execution_count": 1,
   "metadata": {
    "collapsed": true
   },
   "outputs": [],
   "source": [
    "# Write code in code blocks.\n",
    "# Here, we use the urllib2 package to retrieve the wikipedia page on John Tukey.\n",
    "\n",
    "import urllib2\n",
    "response = urllib2.urlopen('https://en.wikipedia.org/wiki/John_Tukey')\n",
    "# Verify that the HTTP request was successful\n",
    "if response.getcode() != 200:\n",
    "    raise RuntimeError('Failed to retrieve the website!')\n",
    "tukeyhtml = response.read()"
   ]
  },
  {
   "cell_type": "markdown",
   "metadata": {},
   "source": [
    "Here's more text, perhaps to explain the result of the above code."
   ]
  },
  {
   "cell_type": "markdown",
   "metadata": {},
   "source": [
    "### Problem 2: pass the Fizz Buzz test\n",
    "The Fizz Buzz test, described <a href=http://wiki.c2.com/?FizzBuzzTest>here</a>, requires that we\n",
    "\"Write a program that prints the numbers from 1 to 100. But for multiples of three print 'Fizz' instead of the number and for the multiples of five print 'Buzz'. For numbers which are multiples of both three and five print 'FizzBuzz'. We'll only print for the first 20 numbers.\n"
   ]
  },
  {
   "cell_type": "code",
   "execution_count": 2,
   "metadata": {},
   "outputs": [
    {
     "name": "stdout",
     "output_type": "stream",
     "text": [
      "1\n",
      "2\n",
      "Fizz\n",
      "4\n",
      "Buzz\n",
      "Fizz\n",
      "7\n",
      "8\n",
      "Fizz\n",
      "Buzz\n",
      "11\n",
      "Fizz\n",
      "13\n",
      "14\n",
      "FizzBuzz\n",
      "16\n",
      "17\n",
      "Fizz\n",
      "19\n",
      "Buzz\n"
     ]
    }
   ],
   "source": [
    "for i in range(1,21):\n",
    "    if i % 3 == 0 and i % 5 == 0:\n",
    "        print \"FizzBuzz\"\n",
    "    elif i % 3 == 0:\n",
    "        print \"Fizz\"\n",
    "    elif i % 5 == 0:\n",
    "        print \"Buzz\"\n",
    "    else:\n",
    "        print str(i)"
   ]
  }
 ],
 "metadata": {
  "kernelspec": {
   "display_name": "Python 3",
   "language": "python",
   "name": "python3"
  },
  "language_info": {
   "codemirror_mode": {
    "name": "ipython",
    "version": 3
   },
   "file_extension": ".py",
   "mimetype": "text/x-python",
   "name": "python",
   "nbconvert_exporter": "python",
   "pygments_lexer": "ipython3",
   "version": "3.6.8"
  }
 },
 "nbformat": 4,
 "nbformat_minor": 2
}
