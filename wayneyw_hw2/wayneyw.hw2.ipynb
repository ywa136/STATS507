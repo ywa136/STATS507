{
 "cells": [
  {
   "cell_type": "markdown",
   "metadata": {},
   "source": [
    "## STATS507 Homework 1, Fall 2019\n",
    "### Wayne Wang\n",
    "#### wayneyw@umich.edu"
   ]
  },
  {
   "cell_type": "markdown",
   "metadata": {},
   "source": [
    "### Problem 1: Fun with Strings"
   ]
  },
  {
   "cell_type": "code",
   "execution_count": 16,
   "metadata": {},
   "outputs": [],
   "source": [
    "def is_palindrome(astring):\n",
    "    astring_no_space = astring.replace(\" \",\"\")\n",
    "    astring_no_space = astring_no_space.lower()\n",
    "    L = len(astring_no_space)\n",
    "    astring_backward = \"\"\n",
    "    for i in range(L-1,-1,-1):\n",
    "        astring_backward += astring_no_space[i]\n",
    "    \n",
    "    if (astring_no_space == astring_backward):\n",
    "        return True\n",
    "    else: \n",
    "        return False"
   ]
  },
  {
   "cell_type": "code",
   "execution_count": 22,
   "metadata": {},
   "outputs": [
    {
     "data": {
      "text/plain": [
       "True"
      ]
     },
     "execution_count": 22,
     "metadata": {},
     "output_type": "execute_result"
    }
   ],
   "source": [
    "is_palindrome(\"kayak\")"
   ]
  },
  {
   "cell_type": "code",
   "execution_count": 23,
   "metadata": {},
   "outputs": [],
   "source": [
    "def is_abecedarian(astring):\n",
    "    astring_no_space = astring.replace(\" \",\"\")\n",
    "    astring_no_space = astring_no_space.lower()    \n",
    "    L = len(astring_no_space)\n",
    "    for i in range(L-1):\n",
    "        if (ord(astring_no_space[i]) > ord(astring_no_space[i+1])):\n",
    "            return False\n",
    "    return True"
   ]
  },
  {
   "cell_type": "code",
   "execution_count": 28,
   "metadata": {},
   "outputs": [
    {
     "data": {
      "text/plain": [
       "True"
      ]
     },
     "execution_count": 28,
     "metadata": {},
     "output_type": "execute_result"
    }
   ],
   "source": [
    "is_abecedarian(\"abcd efgh xyz\")"
   ]
  },
  {
   "cell_type": "code",
   "execution_count": 37,
   "metadata": {},
   "outputs": [],
   "source": [
    "def double_vowels(astring):\n",
    "    vowels = [\"a\",\"e\",\"i\",\"o\",\"u\"]\n",
    "    i = 0\n",
    "    while (i < len(astring)):\n",
    "        if astring[i] in vowels:\n",
    "            astring = astring[0:i] + astring[i] + astring[i:]\n",
    "            i += 2\n",
    "        else:\n",
    "            i += 1\n",
    "    print(astring)"
   ]
  },
  {
   "cell_type": "code",
   "execution_count": 41,
   "metadata": {},
   "outputs": [
    {
     "name": "stdout",
     "output_type": "stream",
     "text": [
      "aauudiioo\n"
     ]
    }
   ],
   "source": [
    "double_vowels(\"audio\")"
   ]
  },
  {
   "cell_type": "markdown",
   "metadata": {},
   "source": [
    "### Problem 2: Fun with Lists"
   ]
  },
  {
   "cell_type": "code",
   "execution_count": 47,
   "metadata": {},
   "outputs": [],
   "source": [
    "def list_reverse(alist):\n",
    "    if type(alist) != list:\n",
    "        raise TypeError(\"Input must be a list!\")\n",
    "    L = len(alist)\n",
    "    reversed_list = []\n",
    "    for i in range(L-1,-1,-1):\n",
    "        reversed_list.append(alist[i])\n",
    "    print(reversed_list)"
   ]
  },
  {
   "cell_type": "code",
   "execution_count": 50,
   "metadata": {},
   "outputs": [
    {
     "name": "stdout",
     "output_type": "stream",
     "text": [
      "[3, 2, 1]\n"
     ]
    }
   ],
   "source": [
    "list_reverse([1,2,3])"
   ]
  },
  {
   "cell_type": "code",
   "execution_count": 52,
   "metadata": {},
   "outputs": [],
   "source": [
    "def is_sorted(seq):\n",
    "    for i in range(len(seq)-1):\n",
    "        if (seq[i] > seq[i+1]):\n",
    "            return False\n",
    "    return True"
   ]
  },
  {
   "cell_type": "code",
   "execution_count": 58,
   "metadata": {},
   "outputs": [
    {
     "data": {
      "text/plain": [
       "False"
      ]
     },
     "execution_count": 58,
     "metadata": {},
     "output_type": "execute_result"
    }
   ],
   "source": [
    "is_sorted(['c','b','c'])"
   ]
  },
  {
   "cell_type": "code",
   "execution_count": 59,
   "metadata": {},
   "outputs": [
    {
     "data": {
      "text/plain": [
       "True"
      ]
     },
     "execution_count": 59,
     "metadata": {},
     "output_type": "execute_result"
    }
   ],
   "source": [
    "is_sorted([1,2,3])"
   ]
  },
  {
   "cell_type": "code",
   "execution_count": 74,
   "metadata": {},
   "outputs": [],
   "source": [
    "def binary_search(t,elmt):\n",
    "    L = len(t)\n",
    "    if (L == 0):\n",
    "        return False\n",
    "    elif (L == 1):\n",
    "        return True if elmt == t[0] else False\n",
    "    elif (L == 2):\n",
    "        return True if elmt == t[0] or elmt == t[1] else False\n",
    "    else:\n",
    "        mid = L // 2\n",
    "        if (elmt == t[mid]):\n",
    "            return True\n",
    "        else:\n",
    "            if (elmt > t[mid]):\n",
    "                return binary_search(t[mid:],elmt)\n",
    "            else:\n",
    "                return binary_search(t[0:mid],elmt)"
   ]
  },
  {
   "cell_type": "code",
   "execution_count": 78,
   "metadata": {},
   "outputs": [
    {
     "data": {
      "text/plain": [
       "False"
      ]
     },
     "execution_count": 78,
     "metadata": {},
     "output_type": "execute_result"
    }
   ],
   "source": [
    "binary_search([1,2,3,4],5)"
   ]
  },
  {
   "cell_type": "code",
   "execution_count": 79,
   "metadata": {},
   "outputs": [
    {
     "data": {
      "text/plain": [
       "True"
      ]
     },
     "execution_count": 79,
     "metadata": {},
     "output_type": "execute_result"
    }
   ],
   "source": [
    "binary_search(['a','b','c'],'a')"
   ]
  },
  {
   "cell_type": "markdown",
   "metadata": {},
   "source": [
    "### Problem 3: More Fun with Strings"
   ]
  },
  {
   "cell_type": "code",
   "execution_count": 81,
   "metadata": {},
   "outputs": [],
   "source": [
    "def char_hist(astring):\n",
    "    astring_lower = astring.lower()\n",
    "    astring_lower_list = list(astring_lower)\n",
    "    count_dict = {i:astring_lower.count(i) for i in astring_lower}\n",
    "    print(count_dict)"
   ]
  },
  {
   "cell_type": "code",
   "execution_count": 85,
   "metadata": {},
   "outputs": [
    {
     "name": "stdout",
     "output_type": "stream",
     "text": [
      "{'a': 1, ' ': 3, 'b': 2, 'c': 1, '1': 1, '2': 1, '3': 1}\n"
     ]
    }
   ],
   "source": [
    "char_hist(\"a bb c 123\")"
   ]
  },
  {
   "cell_type": "code",
   "execution_count": 86,
   "metadata": {},
   "outputs": [],
   "source": [
    "def bigram_hist(astring):\n",
    "    astring_lower = astring.lower()\n",
    "    astring_lower_bigram_list = []\n",
    "    for i in range(len(astring)-1):\n",
    "        astring_lower_bigram_list.append((astring_lower[i],astring_lower[i+1]))\n",
    "    count_dict = {i:astring_lower_bigram_list.count(i) for i in astring_lower_bigram_list}\n",
    "    print(count_dict)"
   ]
  },
  {
   "cell_type": "code",
   "execution_count": 87,
   "metadata": {},
   "outputs": [
    {
     "name": "stdout",
     "output_type": "stream",
     "text": [
      "{('m', 'i'): 1, ('i', 's'): 2, ('s', 's'): 2, ('s', 'i'): 2, ('i', 'p'): 1, ('p', 'p'): 1, ('p', 'i'): 1}\n"
     ]
    }
   ],
   "source": [
    "bigram_hist(\"mississippi\")"
   ]
  },
  {
   "cell_type": "code",
   "execution_count": 88,
   "metadata": {},
   "outputs": [
    {
     "name": "stdout",
     "output_type": "stream",
     "text": [
      "{('c', 'a'): 1, ('a', 't'): 1, ('t', ','): 1, (',', ' '): 1, (' ', 'd'): 1, ('d', 'o'): 1, ('o', 'g'): 1}\n"
     ]
    }
   ],
   "source": [
    "bigram_hist(\"cat, dog\")"
   ]
  },
  {
   "cell_type": "markdown",
   "metadata": {},
   "source": [
    "### Problem 4: Tuples as Vectors"
   ]
  },
  {
   "cell_type": "code",
   "execution_count": 130,
   "metadata": {},
   "outputs": [],
   "source": [
    "def valid(t):\n",
    "    if type(t) != tuple:\n",
    "        return 0\n",
    "    else:\n",
    "        for i in range(len(t)):\n",
    "            if not (type(t[i]) == float or type(t[i]) == int):\n",
    "                return 1\n",
    "    return 2"
   ]
  },
  {
   "cell_type": "code",
   "execution_count": 131,
   "metadata": {},
   "outputs": [],
   "source": [
    "def vec_scalar_mult(t,s):\n",
    "    if valid(t) == 0:\n",
    "        raise TypeError(\"t must be a tuple!\")\n",
    "    if valid(t) == 1:\n",
    "        TypeError(\"elements of t must be float or integer!\")\n",
    "    if not (type(s) == float or type(s) == int):\n",
    "        raise TypeError(\"s must be a float or an integer!\")\n",
    "    t_new = ()\n",
    "    for i in range(len(t)):\n",
    "        t_new += (t[i] * s,)\n",
    "    print(t_new)"
   ]
  },
  {
   "cell_type": "code",
   "execution_count": 132,
   "metadata": {},
   "outputs": [
    {
     "name": "stdout",
     "output_type": "stream",
     "text": [
      "(4.16, 6.4, 9.600000000000001)\n"
     ]
    }
   ],
   "source": [
    "vec_scalar_mult((1.3,2,3),3.2)"
   ]
  },
  {
   "cell_type": "code",
   "execution_count": 147,
   "metadata": {},
   "outputs": [],
   "source": [
    "def vec_inner_product(t,s):\n",
    "    if valid(t) == 0:\n",
    "        raise TypeError(\"t must be a tuple!\")\n",
    "    if valid(t) == 1:\n",
    "        TypeError(\"elements of t must be float or integer!\")\n",
    "    if valid(s) == 0:\n",
    "        raise TypeError(\"s must be a tuple!\")\n",
    "    if valid(s) == 1:\n",
    "        TypeError(\"elements of s must be float or integer!\")\n",
    "    if not (len(t) == len(s)):\n",
    "        raise ValueError(\"Non-conformable dimensions!\")\n",
    "    inner_product = 0\n",
    "    for i in range(len(t)):\n",
    "        inner_product += t[i] * s[i]\n",
    "    return inner_product"
   ]
  },
  {
   "cell_type": "code",
   "execution_count": 148,
   "metadata": {},
   "outputs": [
    {
     "data": {
      "text/plain": [
       "14"
      ]
     },
     "execution_count": 148,
     "metadata": {},
     "output_type": "execute_result"
    }
   ],
   "source": [
    "vec_inner_product((1,2,3),(1,2,3))"
   ]
  },
  {
   "cell_type": "code",
   "execution_count": 140,
   "metadata": {},
   "outputs": [],
   "source": [
    "def check_valid_mx(M):\n",
    "    if not (type(M) == tuple):\n",
    "        return False\n",
    "    dims = ()\n",
    "    for i in range(len(M)):\n",
    "        if not (type(M[i]) == tuple):\n",
    "            return False\n",
    "        if not (valid(M[i]) == 2):\n",
    "            return False\n",
    "        dims += (len(M[i]),)\n",
    "    if not (vec_inner_product(dims,dims) == len(M)*(len(M[0]))**2):\n",
    "        return False\n",
    "    return True"
   ]
  },
  {
   "cell_type": "code",
   "execution_count": 152,
   "metadata": {},
   "outputs": [
    {
     "data": {
      "text/plain": [
       "True"
      ]
     },
     "execution_count": 152,
     "metadata": {},
     "output_type": "execute_result"
    }
   ],
   "source": [
    "check_valid_mx(((1,2),(3,2),(2,3)))"
   ]
  },
  {
   "cell_type": "code",
   "execution_count": 153,
   "metadata": {},
   "outputs": [],
   "source": [
    "def mx_vec_mult(M,t):\n",
    "    if not check_valid_mx(M):\n",
    "        raise TypeError(\"M must be a matrix\")\n",
    "    if not (valid(t) == 2):\n",
    "        raise TypeError(\"t must be a tuple\")\n",
    "    if (len(M[0]) != len(t)):\n",
    "        raise ValueError(\"Non-conformable dimensions\")\n",
    "    prod = ()\n",
    "    for i in range(len(M)):\n",
    "        prod += (vec_inner_product(M[i],t),)\n",
    "    return prod"
   ]
  },
  {
   "cell_type": "code",
   "execution_count": 154,
   "metadata": {},
   "outputs": [
    {
     "data": {
      "text/plain": [
       "(5, 7, 8)"
      ]
     },
     "execution_count": 154,
     "metadata": {},
     "output_type": "execute_result"
    }
   ],
   "source": [
    "mx_vec_mult(((1,2),(3,2),(2,3)),(1,2))"
   ]
  },
  {
   "cell_type": "markdown",
   "metadata": {},
   "source": [
    "### Problem 5: More Fun with Vectors"
   ]
  },
  {
   "cell_type": "code",
   "execution_count": null,
   "metadata": {},
   "outputs": [],
   "source": []
  }
 ],
 "metadata": {
  "kernelspec": {
   "display_name": "Python 3",
   "language": "python",
   "name": "python3"
  },
  "language_info": {
   "codemirror_mode": {
    "name": "ipython",
    "version": 3
   },
   "file_extension": ".py",
   "mimetype": "text/x-python",
   "name": "python",
   "nbconvert_exporter": "python",
   "pygments_lexer": "ipython3",
   "version": "3.6.8"
  }
 },
 "nbformat": 4,
 "nbformat_minor": 2
}
